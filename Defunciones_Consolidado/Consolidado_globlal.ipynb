{
 "cells": [
  {
   "cell_type": "code",
   "execution_count": 1,
   "metadata": {},
   "outputs": [],
   "source": [
    "import pandas as pd\n",
    "import glob"
   ]
  },
  {
   "cell_type": "code",
   "execution_count": 16,
   "metadata": {},
   "outputs": [],
   "source": [
    "lista_directorios = [ str(anio) for anio in range(2010,2022) ]"
   ]
  },
  {
   "cell_type": "code",
   "execution_count": 66,
   "metadata": {},
   "outputs": [],
   "source": [
    "archivos = ['A_*_h', 'A_*_m', 'CI_*_h','CI_*_m']\n",
    "\n",
    "tabla_resultados =[]\n",
    "\n",
    "for archivo in archivos:\n",
    "\n",
    "    bloques_a_h = []\n",
    "\n",
    "    for dir in lista_directorios:\n",
    "        path = dir + '/' + archivo.replace('*', f'{dir}') + '.xlsx'\n",
    "        df = pd.read_excel(path)\n",
    "        # make edad index\n",
    "        df = df.set_index('edad')\n",
    "        # keep only Total column\n",
    "        df = df[['Total']]\n",
    "        # change to int \n",
    "        df = df.astype(int)\n",
    "        # rename column\n",
    "        df = df.rename(columns={'Total': 'Total'+dir})\n",
    "        bloques_a_h.append(df)\n",
    "\n",
    "    # join all dataframes\n",
    "    df = pd.concat(bloques_a_h, axis=1)\n",
    "    # fill NaN with 0\n",
    "    df = df.fillna(0)\n",
    "    # change to int\n",
    "    df = df.astype(int)\n",
    "\n",
    "    # select df where index is less than 99\n",
    "    df_first = pd.DataFrame(df[df.index <= 99])\n",
    "    # select df where index is greater than 99\n",
    "    df_second = pd.DataFrame(df[df.index >= 100])\n",
    "\n",
    "    datos_agrupados = {}\n",
    "    # sum by each column\n",
    "    for col in df_second.columns:\n",
    "        datos_agrupados[col] = df_second[col].sum()\n",
    "\n",
    "    # add datos agrupados to df_first in index 100\n",
    "    df_first.loc[100] = datos_agrupados\n",
    "\n",
    "    tabla_resultados.append(df_first)"
   ]
  },
  {
   "cell_type": "code",
   "execution_count": 68,
   "metadata": {},
   "outputs": [],
   "source": [
    "# save in excel file by sheet\n",
    "with pd.ExcelWriter('Consolidado_global.xlsx') as writer:\n",
    "    for i, df in enumerate(tabla_resultados):\n",
    "        df.to_excel(writer, sheet_name=archivos[i].replace('_*_', '_'))"
   ]
  }
 ],
 "metadata": {
  "kernelspec": {
   "display_name": "Python 3",
   "language": "python",
   "name": "python3"
  },
  "language_info": {
   "codemirror_mode": {
    "name": "ipython",
    "version": 3
   },
   "file_extension": ".py",
   "mimetype": "text/x-python",
   "name": "python",
   "nbconvert_exporter": "python",
   "pygments_lexer": "ipython3",
   "version": "3.11.3"
  },
  "orig_nbformat": 4
 },
 "nbformat": 4,
 "nbformat_minor": 2
}
