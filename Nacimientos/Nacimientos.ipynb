{
 "cells": [
  {
   "cell_type": "code",
   "execution_count": 44,
   "metadata": {},
   "outputs": [],
   "source": [
    "import pandas as pd"
   ]
  },
  {
   "cell_type": "code",
   "execution_count": 45,
   "metadata": {},
   "outputs": [],
   "source": [
    "diccionaro_provincias = {1: ['Azuay'], 2: ['Bolivar'], 3: ['Cañar'], 4: ['Carchi'], 5: ['Cotopaxi'], 6: ['Chimborazo'], 7: ['ElOro'], 8: ['Esmeraldas'], 9: ['Guayas'], 10: ['Imbabura'], 11: ['Loja'], 12: ['LosRios'], 13: ['Manabi'], 14: ['MoronaSantiago'], 15: ['Napo'], 16: ['Pastaza'], 17: ['Pichincha'], 18: ['Tungurahua'], 19: ['ZamoraChinchipe'], 20: ['Galapagos'], 21: ['sucumbios'], 22: ['Orellana'], 23: ['SantoDomingoDeLosTsachilas'], 24: ['SantaElena'], 90: ['ZonasNoDelimitadas'],88:['Exteriror']}"
   ]
  },
  {
   "cell_type": "code",
   "execution_count": 46,
   "metadata": {},
   "outputs": [],
   "source": [
    "region_amazonia = ['MoronaSantiago', 'Napo', 'Pastaza', 'ZamoraChinchipe', 'Orellana', 'Sucumbios']\n",
    "region_costa_insular = ['ElOro', 'Esmeraldas', 'Guayas', 'LosRios', 'Manabi', 'SantaElena','Galapagos','SantoDomingoDeLosTsachilas']"
   ]
  },
  {
   "cell_type": "code",
   "execution_count": 47,
   "metadata": {},
   "outputs": [],
   "source": [
    "region_amazonia_codigo = [14,15,16,19,22,21]\n",
    "region_costa_insular_codigo = [7,8,9,12,13,24,20,23]"
   ]
  },
  {
   "cell_type": "code",
   "execution_count": 48,
   "metadata": {},
   "outputs": [],
   "source": [
    "df = pd.read_csv('nacimientos2014.csv')"
   ]
  },
  {
   "cell_type": "code",
   "execution_count": 49,
   "metadata": {},
   "outputs": [
    {
     "data": {
      "text/html": [
       "<div>\n",
       "<style scoped>\n",
       "    .dataframe tbody tr th:only-of-type {\n",
       "        vertical-align: middle;\n",
       "    }\n",
       "\n",
       "    .dataframe tbody tr th {\n",
       "        vertical-align: top;\n",
       "    }\n",
       "\n",
       "    .dataframe thead th {\n",
       "        text-align: right;\n",
       "    }\n",
       "</style>\n",
       "<table border=\"1\" class=\"dataframe\">\n",
       "  <thead>\n",
       "    <tr style=\"text-align: right;\">\n",
       "      <th></th>\n",
       "      <th>prov_res</th>\n",
       "      <th>sexo</th>\n",
       "    </tr>\n",
       "  </thead>\n",
       "  <tbody>\n",
       "    <tr>\n",
       "      <th>0</th>\n",
       "      <td>9</td>\n",
       "      <td>Mujer</td>\n",
       "    </tr>\n",
       "    <tr>\n",
       "      <th>1</th>\n",
       "      <td>9</td>\n",
       "      <td>Hombre</td>\n",
       "    </tr>\n",
       "    <tr>\n",
       "      <th>2</th>\n",
       "      <td>9</td>\n",
       "      <td>Mujer</td>\n",
       "    </tr>\n",
       "    <tr>\n",
       "      <th>3</th>\n",
       "      <td>9</td>\n",
       "      <td>Hombre</td>\n",
       "    </tr>\n",
       "    <tr>\n",
       "      <th>4</th>\n",
       "      <td>9</td>\n",
       "      <td>Hombre</td>\n",
       "    </tr>\n",
       "  </tbody>\n",
       "</table>\n",
       "</div>"
      ],
      "text/plain": [
       "   prov_res    sexo\n",
       "0         9   Mujer\n",
       "1         9  Hombre\n",
       "2         9   Mujer\n",
       "3         9  Hombre\n",
       "4         9  Hombre"
      ]
     },
     "execution_count": 49,
     "metadata": {},
     "output_type": "execute_result"
    }
   ],
   "source": [
    "df.head()"
   ]
  },
  {
   "cell_type": "code",
   "execution_count": 50,
   "metadata": {},
   "outputs": [],
   "source": [
    "# list all csv files in the working dir\n",
    "import glob\n",
    "archivos = glob.glob('*.csv')"
   ]
  },
  {
   "cell_type": "code",
   "execution_count": 51,
   "metadata": {},
   "outputs": [
    {
     "data": {
      "text/plain": [
       "{'2011': 'nacimientos2011.csv',\n",
       " '2012': 'nacimientos2012.csv',\n",
       " '2013': 'nacimientos2013.csv',\n",
       " '2014': 'nacimientos2014.csv',\n",
       " '2015': 'nacimientos2015.csv',\n",
       " '2016': 'nacimientos2016.csv',\n",
       " '2017': 'nacimientos2017.csv',\n",
       " '2018': 'nacimientos2018.csv',\n",
       " '2019': 'nacimientos2019.csv',\n",
       " '2020': 'nacimientos2020.csv',\n",
       " '2021': 'nacimientos2021.csv'}"
      ]
     },
     "execution_count": 51,
     "metadata": {},
     "output_type": "execute_result"
    }
   ],
   "source": [
    "# keep the year in the file name\n",
    "diccionario = {archivo[11:15]: archivo for archivo in archivos}\n",
    "diccionario"
   ]
  },
  {
   "cell_type": "code",
   "execution_count": 52,
   "metadata": {},
   "outputs": [],
   "source": [
    "df_amazonia_hombres = {}\n",
    "df_amazonia_mujeres = {}\n",
    "df_costa_insular_hombres = {}\n",
    "df_costa_insular_mujeres = {}"
   ]
  },
  {
   "cell_type": "code",
   "execution_count": 53,
   "metadata": {},
   "outputs": [
    {
     "name": "stdout",
     "output_type": "stream",
     "text": [
      "Costa e Insular (Mujeres):  94030\n",
      "Costa e Insular (Hombres):  98626\n",
      "Amazonia (Mujeres):  11344\n",
      "Amazonia (Hombres):  11593\n",
      "Costa e Insular (Mujeres):  90269\n",
      "Costa e Insular (Hombres):  94843\n",
      "Amazonia (Mujeres):  12707\n",
      "Amazonia (Hombres):  13129\n",
      "Costa e Insular (Mujeres):  86123\n",
      "Costa e Insular (Hombres):  90638\n",
      "Amazonia (Mujeres):  11577\n",
      "Amazonia (Hombres):  12158\n",
      "Costa e Insular (Mujeres):  83534\n",
      "Costa e Insular (Hombres):  89058\n",
      "Amazonia (Mujeres):  11107\n",
      "Amazonia (Hombres):  11340\n",
      "Costa e Insular (Mujeres):  91923\n",
      "Costa e Insular (Hombres):  96250\n",
      "Amazonia (Mujeres):  13592\n",
      "Amazonia (Hombres):  14267\n",
      "Costa e Insular (Mujeres):  77451\n",
      "Costa e Insular (Hombres):  80584\n",
      "Amazonia (Mujeres):  10883\n",
      "Amazonia (Hombres):  11432\n",
      "Costa e Insular (Mujeres):  81980\n",
      "Costa e Insular (Hombres):  86693\n",
      "Amazonia (Mujeres):  11547\n",
      "Amazonia (Hombres):  12069\n",
      "Costa e Insular (Mujeres):  82290\n",
      "Costa e Insular (Hombres):  85731\n",
      "Amazonia (Mujeres):  12102\n",
      "Amazonia (Hombres):  12566\n",
      "Costa e Insular (Mujeres):  80738\n",
      "Costa e Insular (Hombres):  84672\n",
      "Amazonia (Mujeres):  10368\n",
      "Amazonia (Hombres):  10816\n",
      "Costa e Insular (Mujeres):  73457\n",
      "Costa e Insular (Hombres):  77510\n",
      "Amazonia (Mujeres):  8563\n",
      "Amazonia (Hombres):  9008\n",
      "Costa e Insular (Mujeres):  72869\n",
      "Costa e Insular (Hombres):  76342\n",
      "Amazonia (Mujeres):  9287\n",
      "Amazonia (Hombres):  9614\n"
     ]
    }
   ],
   "source": [
    "for anio in diccionario.keys():\n",
    "    df = pd.read_csv(diccionario[anio])\n",
    "\n",
    "        # rename prov_res to prov\n",
    "    df.rename(columns={'prov_res': 'prov'}, inplace=True)\n",
    "\n",
    "    df_costa_insular = df[df['prov'].isin(region_costa_insular_codigo)]\n",
    "    df_amazonia = df[df['prov'].isin(region_amazonia_codigo)]\n",
    "\n",
    "    print('Costa e Insular (Mujeres): ', df_costa_insular[df_costa_insular['sexo']=='Mujer'].shape[0])\n",
    "    print('Costa e Insular (Hombres): ', df_costa_insular[df_costa_insular['sexo']=='Hombre'].shape[0])\n",
    "\n",
    "    print('Amazonia (Mujeres): ', df_amazonia[df_amazonia['sexo']=='Mujer'].shape[0])\n",
    "    print('Amazonia (Hombres): ', df_amazonia[df_amazonia['sexo']=='Hombre'].shape[0])\n",
    "\n",
    "    # append to dictionary\n",
    "    df_amazonia_hombres[anio] = df_amazonia[df_amazonia['sexo']=='Hombre'].shape[0]\n",
    "    df_amazonia_mujeres[anio] = df_amazonia[df_amazonia['sexo']=='Mujer'].shape[0]\n",
    "    df_costa_insular_hombres[anio] = df_costa_insular[df_costa_insular['sexo']=='Hombre'].shape[0]\n",
    "    df_costa_insular_mujeres[anio] = df_costa_insular[df_costa_insular['sexo']=='Mujer'].shape[0]\n",
    "\n"
   ]
  },
  {
   "cell_type": "code",
   "execution_count": 54,
   "metadata": {},
   "outputs": [],
   "source": [
    "# create a dataframe from the dictionary\n",
    "df_amazonia_hombres = pd.DataFrame.from_dict(df_amazonia_hombres, orient='index')\n",
    "df_amazonia_mujeres = pd.DataFrame.from_dict(df_amazonia_mujeres, orient='index')\n",
    "df_costa_insular_hombres = pd.DataFrame.from_dict(df_costa_insular_hombres, orient='index')\n",
    "df_costa_insular_mujeres = pd.DataFrame.from_dict(df_costa_insular_mujeres, orient='index')\n",
    "\n",
    "# save to excel\n",
    "writer = pd.ExcelWriter('nacimientos.xlsx')\n",
    "df_amazonia_hombres.to_excel(writer,'Amazonia Hombres')\n",
    "df_amazonia_mujeres.to_excel(writer,'Amazonia Mujeres')\n",
    "df_costa_insular_hombres.to_excel(writer,'Costa e Insular Hombres')\n",
    "df_costa_insular_mujeres.to_excel(writer,'Costa e Insular Mujeres')\n",
    "writer.close()\n"
   ]
  }
 ],
 "metadata": {
  "kernelspec": {
   "display_name": "Python 3",
   "language": "python",
   "name": "python3"
  },
  "language_info": {
   "codemirror_mode": {
    "name": "ipython",
    "version": 3
   },
   "file_extension": ".py",
   "mimetype": "text/x-python",
   "name": "python",
   "nbconvert_exporter": "python",
   "pygments_lexer": "ipython3",
   "version": "3.11.3"
  },
  "orig_nbformat": 4
 },
 "nbformat": 4,
 "nbformat_minor": 2
}
