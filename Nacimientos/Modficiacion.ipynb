{
 "cells": [
  {
   "cell_type": "code",
   "execution_count": 26,
   "metadata": {},
   "outputs": [],
   "source": [
    "import pandas as pd"
   ]
  },
  {
   "cell_type": "code",
   "execution_count": 95,
   "metadata": {},
   "outputs": [],
   "source": [
    "df = pd.read_csv('nacimientos2013.csv',sep=',')"
   ]
  },
  {
   "cell_type": "code",
   "execution_count": 102,
   "metadata": {},
   "outputs": [
    {
     "data": {
      "text/html": [
       "<div>\n",
       "<style scoped>\n",
       "    .dataframe tbody tr th:only-of-type {\n",
       "        vertical-align: middle;\n",
       "    }\n",
       "\n",
       "    .dataframe tbody tr th {\n",
       "        vertical-align: top;\n",
       "    }\n",
       "\n",
       "    .dataframe thead th {\n",
       "        text-align: right;\n",
       "    }\n",
       "</style>\n",
       "<table border=\"1\" class=\"dataframe\">\n",
       "  <thead>\n",
       "    <tr style=\"text-align: right;\">\n",
       "      <th></th>\n",
       "      <th>sexo</th>\n",
       "      <th>prov_res</th>\n",
       "    </tr>\n",
       "  </thead>\n",
       "  <tbody>\n",
       "    <tr>\n",
       "      <th>0</th>\n",
       "      <td>Hombre</td>\n",
       "      <td>9</td>\n",
       "    </tr>\n",
       "    <tr>\n",
       "      <th>1</th>\n",
       "      <td>Mujer</td>\n",
       "      <td>17</td>\n",
       "    </tr>\n",
       "    <tr>\n",
       "      <th>2</th>\n",
       "      <td>Hombre</td>\n",
       "      <td>17</td>\n",
       "    </tr>\n",
       "    <tr>\n",
       "      <th>3</th>\n",
       "      <td>Mujer</td>\n",
       "      <td>15</td>\n",
       "    </tr>\n",
       "    <tr>\n",
       "      <th>4</th>\n",
       "      <td>Mujer</td>\n",
       "      <td>17</td>\n",
       "    </tr>\n",
       "  </tbody>\n",
       "</table>\n",
       "</div>"
      ],
      "text/plain": [
       "     sexo  prov_res\n",
       "0  Hombre         9\n",
       "1   Mujer        17\n",
       "2  Hombre        17\n",
       "3   Mujer        15\n",
       "4   Mujer        17"
      ]
     },
     "execution_count": 102,
     "metadata": {},
     "output_type": "execute_result"
    }
   ],
   "source": [
    "df.head()"
   ]
  },
  {
   "cell_type": "code",
   "execution_count": 97,
   "metadata": {},
   "outputs": [],
   "source": [
    "#drop Unnamed: 0\n",
    "try:\n",
    "    df.drop('Unnamed: 0', axis=1, inplace=True)\n",
    "except:\n",
    "    pass"
   ]
  },
  {
   "cell_type": "code",
   "execution_count": 98,
   "metadata": {},
   "outputs": [
    {
     "data": {
      "text/plain": [
       "array(['Guayas', 'Pichincha', 'Napo', 'Cotopaxi', 'Imbabura', 'Manabí',\n",
       "       'Tungurahua', 'El Oro', 'Santo Domingo de los Tsáchilas',\n",
       "       'Esmeraldas', 'Loja', 'Los Ríos', 'Azuay', 'Orellana', 'Bolívar',\n",
       "       'Sucumbíos', 'Carchi', 'Cañar', 'Morona Santiago', 'Galápagos',\n",
       "       'Pastaza', 'Chimborazo', 'Exterior', 'Santa Elena',\n",
       "       'Zonas No Delimitadas', 'Zamora Chinchipe'], dtype=object)"
      ]
     },
     "execution_count": 98,
     "metadata": {},
     "output_type": "execute_result"
    }
   ],
   "source": [
    "df['prov_res'].unique()"
   ]
  },
  {
   "cell_type": "code",
   "execution_count": 99,
   "metadata": {},
   "outputs": [
    {
     "data": {
      "text/plain": [
       "{'Azuay': 1,\n",
       " 'Bolívar': 2,\n",
       " 'Cañar': 3,\n",
       " 'Carchi': 4,\n",
       " 'Cotopaxi': 5,\n",
       " 'Chimborazo': 6,\n",
       " 'El Oro': 7,\n",
       " 'Esmeraldas': 8,\n",
       " 'Guayas': 9,\n",
       " 'Imbabura': 10,\n",
       " 'Loja': 11,\n",
       " 'Los Ríos': 12,\n",
       " 'Manabí': 13,\n",
       " 'Morona Santiago': 14,\n",
       " 'Napo': 15,\n",
       " 'Pastaza': 16,\n",
       " 'Pichincha': 17,\n",
       " 'Tungurahua': 18,\n",
       " 'Zamora Chinchipe': 19,\n",
       " 'Galápagos': 20,\n",
       " 'Sucumbíos': 21,\n",
       " 'Orellana': 22,\n",
       " 'Santo Domingo de los Tsáchilas': 23,\n",
       " 'Santa Elena': 24,\n",
       " 'Zonas No Delimitadas': 90,\n",
       " 'Exterior': 88}"
      ]
     },
     "execution_count": 99,
     "metadata": {},
     "output_type": "execute_result"
    }
   ],
   "source": [
    "# replace with code of dictionary\n",
    "diccionaro_provincias = {1: ['Azuay'], 2: ['Bolívar'], 3: ['Cañar'], 4: ['Carchi'], 5: ['Cotopaxi'], 6: ['Chimborazo'], 7: ['El Oro'], 8: ['Esmeraldas'], 9: ['Guayas'], 10: ['Imbabura'], 11: ['Loja'], 12: ['Los Ríos'], 13: ['Manabí'], 14: ['Morona Santiago'], 15: ['Napo'], 16: ['Pastaza'], 17: ['Pichincha'], 18: ['Tungurahua'], 19: ['Zamora Chinchipe'], 20: ['Galápagos'], 21: ['Sucumbíos'], 22: ['Orellana'], 23: ['Santo Domingo de los Tsáchilas'], 24: ['Santa Elena'], 90: ['Zonas No Delimitadas'],88:['Exterior']}\n",
    "# invertir diccionario\n",
    "diccionaro_provincias = {value[0]: key for key, value in diccionaro_provincias.items()}\n",
    "\n",
    "diccionaro_provincias"
   ]
  },
  {
   "cell_type": "code",
   "execution_count": 100,
   "metadata": {},
   "outputs": [],
   "source": [
    "df['prov_res'] = df['prov_res'].map(diccionaro_provincias)"
   ]
  },
  {
   "cell_type": "code",
   "execution_count": 101,
   "metadata": {},
   "outputs": [
    {
     "data": {
      "text/plain": [
       "array([ 9, 17, 15,  5, 10, 13, 18,  7, 23,  8, 11, 12,  1, 22,  2, 21,  4,\n",
       "        3, 14, 20, 16,  6, 88, 24, 90, 19], dtype=int64)"
      ]
     },
     "execution_count": 101,
     "metadata": {},
     "output_type": "execute_result"
    }
   ],
   "source": [
    "df['prov_res'].unique()"
   ]
  },
  {
   "cell_type": "code",
   "execution_count": 103,
   "metadata": {},
   "outputs": [],
   "source": [
    "df['prov_res'] = df['prov_res'].astype('int')"
   ]
  },
  {
   "cell_type": "code",
   "execution_count": 104,
   "metadata": {},
   "outputs": [],
   "source": [
    "# replace the csv file\n",
    "df.to_csv('nacimientos2013.csv', index=False)"
   ]
  }
 ],
 "metadata": {
  "kernelspec": {
   "display_name": "Python 3",
   "language": "python",
   "name": "python3"
  },
  "language_info": {
   "codemirror_mode": {
    "name": "ipython",
    "version": 3
   },
   "file_extension": ".py",
   "mimetype": "text/x-python",
   "name": "python",
   "nbconvert_exporter": "python",
   "pygments_lexer": "ipython3",
   "version": "3.11.3"
  },
  "orig_nbformat": 4
 },
 "nbformat": 4,
 "nbformat_minor": 2
}
